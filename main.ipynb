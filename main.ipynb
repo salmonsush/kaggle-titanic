{
 "cells": [
  {
   "cell_type": "code",
   "execution_count": 2,
   "metadata": {},
   "outputs": [
    {
     "ename": "ModuleNotFoundError",
     "evalue": "No module named 'pandas'",
     "output_type": "error",
     "traceback": [
      "\u001b[1;31m---------------------------------------------------------------------------\u001b[0m",
      "\u001b[1;31mModuleNotFoundError\u001b[0m                       Traceback (most recent call last)",
      "Cell \u001b[1;32mIn[2], line 1\u001b[0m\n\u001b[1;32m----> 1\u001b[0m \u001b[39mimport\u001b[39;00m \u001b[39mpandas\u001b[39;00m \u001b[39mas\u001b[39;00m \u001b[39mpd\u001b[39;00m\n\u001b[0;32m      3\u001b[0m \u001b[39m# 시리즈 생성. 숫자 인덱스가 자동으로 생성 \u001b[39;00m\n\u001b[0;32m      4\u001b[0m s2 \u001b[39m=\u001b[39m pd\u001b[39m.\u001b[39mSeries([\u001b[39m'\u001b[39m\u001b[39m조조\u001b[39m\u001b[39m'\u001b[39m, \u001b[39m96\u001b[39m, \u001b[39m72\u001b[39m, \u001b[39m91\u001b[39m, \u001b[39m94\u001b[39m, \u001b[39m96\u001b[39m], index\u001b[39m=\u001b[39m[\u001b[39m'\u001b[39m\u001b[39m이름\u001b[39m\u001b[39m'\u001b[39m, \u001b[39m'\u001b[39m\u001b[39m통솔\u001b[39m\u001b[39m'\u001b[39m, \u001b[39m'\u001b[39m\u001b[39m무력\u001b[39m\u001b[39m'\u001b[39m, \u001b[39m'\u001b[39m\u001b[39m지력\u001b[39m\u001b[39m'\u001b[39m, \u001b[39m'\u001b[39m\u001b[39m정치\u001b[39m\u001b[39m'\u001b[39m, \u001b[39m'\u001b[39m\u001b[39m매력\u001b[39m\u001b[39m'\u001b[39m])\n",
      "\u001b[1;31mModuleNotFoundError\u001b[0m: No module named 'pandas'"
     ]
    }
   ],
   "source": [
    "import pandas as pd\n",
    "\n",
    "# 시리즈 생성. 숫자 인덱스가 자동으로 생성 \n",
    "s2 = pd.Series(['조조', 96, 72, 91, 94, 96], index=['이름', '통솔', '무력', '지력', '정치', '매력'])\n",
    "s2"
   ]
  },
  {
   "cell_type": "code",
   "execution_count": null,
   "metadata": {},
   "outputs": [],
   "source": [
    "import pandas as pd\n",
    "import matplotlib.pyplot as plt\n",
    "\n",
    "# 훈련용 데이터 불러오기 \n",
    "train = pd.read_csv(\"https://raw.githubusercontent.com/developer-sdk/kaggle-python-beginner/master/datas/kaggle-titanic/train.csv\")\n",
    "train.head(5)\n",
    "# Embarked는 승선한 곳을 말하며, C(Cherbourg), Q(Queenstown), S(Southampton)를 뜻함.\n",
    "# 인덱스 정보: https://thebook.io/006723/ch11/01/"
   ]
  },
  {
   "cell_type": "code",
   "execution_count": null,
   "metadata": {},
   "outputs": [],
   "source": [
    "train.isnull().sum()"
   ]
  },
  {
   "cell_type": "code",
   "execution_count": null,
   "metadata": {},
   "outputs": [],
   "source": [
    "def show_pie_chart(df, col_name):\n",
    "    colname_survived = survived_crosstab(train, col_name)\n",
    "    pie_chart(colname_survived)\n",
    "    return colname_survived\n",
    "\n",
    "def survived_crosstab(df, col_name):\n",
    "    '''col_name과 Survived간의 교차도표 생성'''\n",
    "    feature_survived = pd.crosstab(df[col_name], df['Survived'])\n",
    "    feature_survived.columns = feature_survived.columns.map({0:\"Dead\", 1:\"Alive\"})\n",
    "    return feature_survived\n",
    "\n",
    "def pie_chart(feature_survived):\n",
    "    '''\n",
    "    pie_chart 생성\n",
    "    pcol, prow = 차트를 출력할 개수. pcol * prow 만큼의 차트 출력 \n",
    "    '''\n",
    "    frows, fcols = feature_survived.shape\n",
    "    pcol = 3\n",
    "    prow = (frows/pcol + frows%pcol)\n",
    "    plot_height = prow * 2.5\n",
    "    plt.figure(figsize=(8, plot_height))\n",
    "\n",
    "    for row in range(0, frows):\n",
    "        plt.subplot(prow, pcol, row+1)\n",
    "\n",
    "        index_name = feature_survived.index[row]\n",
    "        plt.pie(feature_survived.loc[index_name], labels=feature_survived.loc[index_name].index, autopct='%1.1f%%')\n",
    "        plt.title(\"{0}' survived\".format(index_name))\n",
    "\n",
    "    plt.show()"
   ]
  }
 ],
 "metadata": {
  "kernelspec": {
   "display_name": "Python 3",
   "language": "python",
   "name": "python3"
  },
  "language_info": {
   "codemirror_mode": {
    "name": "ipython",
    "version": 3
   },
   "file_extension": ".py",
   "mimetype": "text/x-python",
   "name": "python",
   "nbconvert_exporter": "python",
   "pygments_lexer": "ipython3",
   "version": "3.10.9"
  },
  "orig_nbformat": 4,
  "vscode": {
   "interpreter": {
    "hash": "66eba28a75a64fbe1a9b9c30d27f7c856726c51cbbef86297708eae4ce175db0"
   }
  }
 },
 "nbformat": 4,
 "nbformat_minor": 2
}
