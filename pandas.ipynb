{
 "cells": [
  {
   "attachments": {},
   "cell_type": "markdown",
   "metadata": {},
   "source": [
    "엑셀에서는 행을 가장 중요하게 여겼다. 왜냐하면, 테트리스 짜듯이 길쭉한 열들을 옆으로 붙여가면서 데이터를 짜면, 각각의 열이 똑같은 행을 기준으로 만들어진 데이터인지 확신을 하지 못하기 때문이다. 그래서 숫자만 냅다 옮겨붙이면 끝나는게 아닌, 개수나 이 새로 붙인 열의 특정 행의 데이터가 가장 왼쪽에 있는 행의 이름값 혹은 인덱스에 알맞는 데이터인지 확신할 수 있도록 검사하는 과정을 꼭 거쳤다."
   ]
  },
  {
   "cell_type": "code",
   "execution_count": 33,
   "metadata": {},
   "outputs": [],
   "source": [
    "import pandas as pd\n",
    "\n",
    "list_tmp = [1,2,3]\n"
   ]
  },
  {
   "attachments": {},
   "cell_type": "markdown",
   "metadata": {},
   "source": [
    "그래서, 마치 엑셀에서 손으로 타이핑해 데이터를 추가하듯이 판다스에서 한다면 다음과 같이 하는게 자연스럽다."
   ]
  },
  {
   "cell_type": "code",
   "execution_count": 34,
   "metadata": {},
   "outputs": [
    {
     "data": {
      "text/html": [
       "<div>\n",
       "<style scoped>\n",
       "    .dataframe tbody tr th:only-of-type {\n",
       "        vertical-align: middle;\n",
       "    }\n",
       "\n",
       "    .dataframe tbody tr th {\n",
       "        vertical-align: top;\n",
       "    }\n",
       "\n",
       "    .dataframe thead th {\n",
       "        text-align: right;\n",
       "    }\n",
       "</style>\n",
       "<table border=\"1\" class=\"dataframe\">\n",
       "  <thead>\n",
       "    <tr style=\"text-align: right;\">\n",
       "      <th></th>\n",
       "      <th>0</th>\n",
       "    </tr>\n",
       "  </thead>\n",
       "  <tbody>\n",
       "    <tr>\n",
       "      <th>이름</th>\n",
       "      <td>김지수</td>\n",
       "    </tr>\n",
       "    <tr>\n",
       "      <th>나이</th>\n",
       "      <td>26</td>\n",
       "    </tr>\n",
       "    <tr>\n",
       "      <th>직업</th>\n",
       "      <td>대학생</td>\n",
       "    </tr>\n",
       "    <tr>\n",
       "      <th>그룹id</th>\n",
       "      <td>1</td>\n",
       "    </tr>\n",
       "    <tr>\n",
       "      <th>호실</th>\n",
       "      <td>101</td>\n",
       "    </tr>\n",
       "  </tbody>\n",
       "</table>\n",
       "</div>"
      ],
      "text/plain": [
       "        0\n",
       "이름    김지수\n",
       "나이     26\n",
       "직업    대학생\n",
       "그룹id    1\n",
       "호실    101"
      ]
     },
     "execution_count": 34,
     "metadata": {},
     "output_type": "execute_result"
    }
   ],
   "source": [
    "# 오늘의 게스트 하우스 방문객\n",
    "\n",
    "df = pd.DataFrame([\"김지수\", 26, \"대학생\", 1, 101], index=[\"이름\", \"나이\", \"직업\", \"그룹id\", \"호실\"])\n",
    "df"
   ]
  },
  {
   "attachments": {},
   "cell_type": "markdown",
   "metadata": {},
   "source": [
    "위 예시를 보면 뭐가 잘못되었음을 알 수 있다. 저렇게 아래로 내리는게 아니라, 옆으로 \n",
    "\n",
    "김지수 26 대학생 1 101 \n",
    "\n",
    "이렇게 나오는게 우리가 원하는 보통의 표이다. 엑셀에서 보통 위와 같은 방식으로 데이터를 축적하지는 않는데, 왜냐하면 데이터가 옆으로 늘어나기 때문이다.\n",
    "\n",
    "자꾸 엑셀에 빗대서 설명을 해서 짜증이 날 사람도 있을거다(판다스 공부하러왔찌!! 엑셀은 안궁금해..!).\n",
    "\n",
    "하지만, 실생활에서 파이썬 키고, 판다스 함수 일일이 찾아가면서 데이터 입력 방법에만 list, array, series, dictionary,... 등등의 방법이 있는 판다스보단 엑셀이 훨씬 기억에 오래남고, 무엇보다 활용하기가 편하다.\n",
    "\n",
    "그리고 나도 엑셀로 데이터 실무(공부보다 빨랐다!), 그리고 나아가 코딩에 입문했다. 그래서 엑셀로 생각하는게 입문자에게는 더 자연스러운 사고의 흐름이라고 생각한다."
   ]
  },
  {
   "cell_type": "code",
   "execution_count": 35,
   "metadata": {},
   "outputs": [
    {
     "data": {
      "text/html": [
       "<div>\n",
       "<style scoped>\n",
       "    .dataframe tbody tr th:only-of-type {\n",
       "        vertical-align: middle;\n",
       "    }\n",
       "\n",
       "    .dataframe tbody tr th {\n",
       "        vertical-align: top;\n",
       "    }\n",
       "\n",
       "    .dataframe thead th {\n",
       "        text-align: right;\n",
       "    }\n",
       "</style>\n",
       "<table border=\"1\" class=\"dataframe\">\n",
       "  <thead>\n",
       "    <tr style=\"text-align: right;\">\n",
       "      <th></th>\n",
       "      <th>0</th>\n",
       "    </tr>\n",
       "  </thead>\n",
       "  <tbody>\n",
       "    <tr>\n",
       "      <th>이름</th>\n",
       "      <td>김지수</td>\n",
       "    </tr>\n",
       "    <tr>\n",
       "      <th>나이</th>\n",
       "      <td>26</td>\n",
       "    </tr>\n",
       "    <tr>\n",
       "      <th>직업</th>\n",
       "      <td>대학생</td>\n",
       "    </tr>\n",
       "    <tr>\n",
       "      <th>그룹id</th>\n",
       "      <td>1</td>\n",
       "    </tr>\n",
       "    <tr>\n",
       "      <th>호실</th>\n",
       "      <td>101</td>\n",
       "    </tr>\n",
       "  </tbody>\n",
       "</table>\n",
       "</div>"
      ],
      "text/plain": [
       "        0\n",
       "이름    김지수\n",
       "나이     26\n",
       "직업    대학생\n",
       "그룹id    1\n",
       "호실    101"
      ]
     },
     "execution_count": 35,
     "metadata": {},
     "output_type": "execute_result"
    }
   ],
   "source": [
    "# df = pd.DataFrame(data = [\"김지수\", 26, \"대학생\", 1, 101], columns=[\"이름\", \"나이\", \"직업\", \"그룹id\", \"호실\"])\n",
    "df\n",
    "# 이건 에러가 난다."
   ]
  },
  {
   "cell_type": "code",
   "execution_count": 36,
   "metadata": {},
   "outputs": [
    {
     "data": {
      "text/html": [
       "<div>\n",
       "<style scoped>\n",
       "    .dataframe tbody tr th:only-of-type {\n",
       "        vertical-align: middle;\n",
       "    }\n",
       "\n",
       "    .dataframe tbody tr th {\n",
       "        vertical-align: top;\n",
       "    }\n",
       "\n",
       "    .dataframe thead th {\n",
       "        text-align: right;\n",
       "    }\n",
       "</style>\n",
       "<table border=\"1\" class=\"dataframe\">\n",
       "  <thead>\n",
       "    <tr style=\"text-align: right;\">\n",
       "      <th></th>\n",
       "      <th>0</th>\n",
       "    </tr>\n",
       "  </thead>\n",
       "  <tbody>\n",
       "    <tr>\n",
       "      <th>이름</th>\n",
       "      <td>김지수</td>\n",
       "    </tr>\n",
       "    <tr>\n",
       "      <th>나이</th>\n",
       "      <td>26</td>\n",
       "    </tr>\n",
       "    <tr>\n",
       "      <th>직업</th>\n",
       "      <td>대학생</td>\n",
       "    </tr>\n",
       "    <tr>\n",
       "      <th>그룹id</th>\n",
       "      <td>1</td>\n",
       "    </tr>\n",
       "    <tr>\n",
       "      <th>호실</th>\n",
       "      <td>101</td>\n",
       "    </tr>\n",
       "  </tbody>\n",
       "</table>\n",
       "</div>"
      ],
      "text/plain": [
       "        0\n",
       "이름    김지수\n",
       "나이     26\n",
       "직업    대학생\n",
       "그룹id    1\n",
       "호실    101"
      ]
     },
     "execution_count": 36,
     "metadata": {},
     "output_type": "execute_result"
    }
   ],
   "source": [
    "# df = pd.DataFrame([\"김지수\"], [26], [\"대학생\"], [1], [101], columns=[\"이름\", \"나이\", \"직업\", \"그룹id\", \"호실\"])\n",
    "df"
   ]
  },
  {
   "cell_type": "code",
   "execution_count": 37,
   "metadata": {},
   "outputs": [
    {
     "data": {
      "text/html": [
       "<div>\n",
       "<style scoped>\n",
       "    .dataframe tbody tr th:only-of-type {\n",
       "        vertical-align: middle;\n",
       "    }\n",
       "\n",
       "    .dataframe tbody tr th {\n",
       "        vertical-align: top;\n",
       "    }\n",
       "\n",
       "    .dataframe thead th {\n",
       "        text-align: right;\n",
       "    }\n",
       "</style>\n",
       "<table border=\"1\" class=\"dataframe\">\n",
       "  <thead>\n",
       "    <tr style=\"text-align: right;\">\n",
       "      <th></th>\n",
       "      <th>0</th>\n",
       "    </tr>\n",
       "  </thead>\n",
       "  <tbody>\n",
       "    <tr>\n",
       "      <th>이름</th>\n",
       "      <td>김지수</td>\n",
       "    </tr>\n",
       "    <tr>\n",
       "      <th>나이</th>\n",
       "      <td>26</td>\n",
       "    </tr>\n",
       "    <tr>\n",
       "      <th>직업</th>\n",
       "      <td>대학생</td>\n",
       "    </tr>\n",
       "    <tr>\n",
       "      <th>그룹id</th>\n",
       "      <td>1</td>\n",
       "    </tr>\n",
       "    <tr>\n",
       "      <th>호실</th>\n",
       "      <td>101</td>\n",
       "    </tr>\n",
       "  </tbody>\n",
       "</table>\n",
       "</div>"
      ],
      "text/plain": [
       "        0\n",
       "이름    김지수\n",
       "나이     26\n",
       "직업    대학생\n",
       "그룹id    1\n",
       "호실    101"
      ]
     },
     "execution_count": 37,
     "metadata": {},
     "output_type": "execute_result"
    }
   ],
   "source": [
    "# df = pd.DataFrame({\"이름\":\"김지수\"})\n",
    "df"
   ]
  },
  {
   "cell_type": "code",
   "execution_count": 38,
   "metadata": {},
   "outputs": [
    {
     "data": {
      "text/html": [
       "<div>\n",
       "<style scoped>\n",
       "    .dataframe tbody tr th:only-of-type {\n",
       "        vertical-align: middle;\n",
       "    }\n",
       "\n",
       "    .dataframe tbody tr th {\n",
       "        vertical-align: top;\n",
       "    }\n",
       "\n",
       "    .dataframe thead th {\n",
       "        text-align: right;\n",
       "    }\n",
       "</style>\n",
       "<table border=\"1\" class=\"dataframe\">\n",
       "  <thead>\n",
       "    <tr style=\"text-align: right;\">\n",
       "      <th></th>\n",
       "      <th>이름</th>\n",
       "    </tr>\n",
       "  </thead>\n",
       "  <tbody>\n",
       "    <tr>\n",
       "      <th>0</th>\n",
       "      <td>김지수</td>\n",
       "    </tr>\n",
       "  </tbody>\n",
       "</table>\n",
       "</div>"
      ],
      "text/plain": [
       "    이름\n",
       "0  김지수"
      ]
     },
     "execution_count": 38,
     "metadata": {},
     "output_type": "execute_result"
    }
   ],
   "source": [
    "df = pd.DataFrame({\"이름\": [\"김지수\"]})\n",
    "df"
   ]
  },
  {
   "cell_type": "code",
   "execution_count": 39,
   "metadata": {},
   "outputs": [
    {
     "data": {
      "text/html": [
       "<div>\n",
       "<style scoped>\n",
       "    .dataframe tbody tr th:only-of-type {\n",
       "        vertical-align: middle;\n",
       "    }\n",
       "\n",
       "    .dataframe tbody tr th {\n",
       "        vertical-align: top;\n",
       "    }\n",
       "\n",
       "    .dataframe thead th {\n",
       "        text-align: right;\n",
       "    }\n",
       "</style>\n",
       "<table border=\"1\" class=\"dataframe\">\n",
       "  <thead>\n",
       "    <tr style=\"text-align: right;\">\n",
       "      <th></th>\n",
       "      <th>이름</th>\n",
       "      <th>나이</th>\n",
       "      <th>직업</th>\n",
       "      <th>그룹id</th>\n",
       "      <th>호실</th>\n",
       "    </tr>\n",
       "  </thead>\n",
       "  <tbody>\n",
       "    <tr>\n",
       "      <th>0</th>\n",
       "      <td>김지수</td>\n",
       "      <td>26</td>\n",
       "      <td>대학생</td>\n",
       "      <td>1</td>\n",
       "      <td>101</td>\n",
       "    </tr>\n",
       "  </tbody>\n",
       "</table>\n",
       "</div>"
      ],
      "text/plain": [
       "    이름  나이   직업  그룹id   호실\n",
       "0  김지수  26  대학생     1  101"
      ]
     },
     "execution_count": 39,
     "metadata": {},
     "output_type": "execute_result"
    }
   ],
   "source": [
    "# 여러 개의 열을 담은 한 행을 생성하고 싶을땐, 하나의 dictionary로 넣어준다.\n",
    "df = pd.DataFrame({\"이름\": [\"김지수\"], \"나이\": [26], \"직업\": [\"대학생\"], \"그룹id\" : [1], \"호실\": [101]})\n",
    "df"
   ]
  },
  {
   "attachments": {},
   "cell_type": "markdown",
   "metadata": {},
   "source": [
    "자, 이제 뭔가 타이핑하기에 상당히 복잡한 식으로 pandas가 작동한다는 것을 바로 알 수 있다.\n",
    "\n",
    "위를 통해 우선 기능적인 규칙은 다음과 같다. pd.DataFrame() : 어떤 복잡한 데이터라도, pandas의 dataframe 인스턴스로 선언하고 싶다면, 무조건 함수의 첫번째 인자에서 해결해야한다. \n",
    "\n",
    "data = dict()\n",
    "\n",
    "df = pd.DataFrame(data) 로 선언할거라면, 이 때에 하나의 dict만 입력해줄 수 있다. 안에 여러개의 key와 value로 여러 열들을 만들어준다."
   ]
  },
  {
   "cell_type": "code",
   "execution_count": 40,
   "metadata": {},
   "outputs": [
    {
     "data": {
      "text/html": [
       "<div>\n",
       "<style scoped>\n",
       "    .dataframe tbody tr th:only-of-type {\n",
       "        vertical-align: middle;\n",
       "    }\n",
       "\n",
       "    .dataframe tbody tr th {\n",
       "        vertical-align: top;\n",
       "    }\n",
       "\n",
       "    .dataframe thead th {\n",
       "        text-align: right;\n",
       "    }\n",
       "</style>\n",
       "<table border=\"1\" class=\"dataframe\">\n",
       "  <thead>\n",
       "    <tr style=\"text-align: right;\">\n",
       "      <th></th>\n",
       "      <th>이름</th>\n",
       "      <th>나이</th>\n",
       "      <th>직업</th>\n",
       "      <th>그룹id</th>\n",
       "      <th>호실</th>\n",
       "    </tr>\n",
       "  </thead>\n",
       "  <tbody>\n",
       "    <tr>\n",
       "      <th>0</th>\n",
       "      <td>김지수</td>\n",
       "      <td>26</td>\n",
       "      <td>대학생</td>\n",
       "      <td>1</td>\n",
       "      <td>101</td>\n",
       "    </tr>\n",
       "    <tr>\n",
       "      <th>1</th>\n",
       "      <td>김태진</td>\n",
       "      <td>26</td>\n",
       "      <td>대학생</td>\n",
       "      <td>1</td>\n",
       "      <td>101</td>\n",
       "    </tr>\n",
       "  </tbody>\n",
       "</table>\n",
       "</div>"
      ],
      "text/plain": [
       "    이름  나이   직업  그룹id   호실\n",
       "0  김지수  26  대학생     1  101\n",
       "1  김태진  26  대학생     1  101"
      ]
     },
     "execution_count": 40,
     "metadata": {},
     "output_type": "execute_result"
    }
   ],
   "source": [
    "# 열 규칙을 맞춘 행 추가하기.\n",
    "df.loc[1] = [\"김태진\", 26, \"대학생\", 1, 101]\n",
    "df"
   ]
  },
  {
   "attachments": {},
   "cell_type": "markdown",
   "metadata": {},
   "source": [
    "이제 좀 쉬워진다. 약간 상식적으로 굴러간다고도 볼 수 있다. 근데, 왜 하필 loc라는 이름의 함수를 사용할까?\n",
    "\n",
    "loc는 location의 약어로, 행또는 칼럼을 인덱싱하는 방법이다."
   ]
  },
  {
   "cell_type": "code",
   "execution_count": 41,
   "metadata": {},
   "outputs": [
    {
     "data": {
      "text/html": [
       "<div>\n",
       "<style scoped>\n",
       "    .dataframe tbody tr th:only-of-type {\n",
       "        vertical-align: middle;\n",
       "    }\n",
       "\n",
       "    .dataframe tbody tr th {\n",
       "        vertical-align: top;\n",
       "    }\n",
       "\n",
       "    .dataframe thead th {\n",
       "        text-align: right;\n",
       "    }\n",
       "</style>\n",
       "<table border=\"1\" class=\"dataframe\">\n",
       "  <thead>\n",
       "    <tr style=\"text-align: right;\">\n",
       "      <th></th>\n",
       "      <th>이름</th>\n",
       "      <th>나이</th>\n",
       "      <th>직업</th>\n",
       "      <th>그룹id</th>\n",
       "      <th>호실</th>\n",
       "    </tr>\n",
       "  </thead>\n",
       "  <tbody>\n",
       "    <tr>\n",
       "      <th>0</th>\n",
       "      <td>김지수</td>\n",
       "      <td>26</td>\n",
       "      <td>대학생</td>\n",
       "      <td>1</td>\n",
       "      <td>101</td>\n",
       "    </tr>\n",
       "    <tr>\n",
       "      <th>1</th>\n",
       "      <td>김태진</td>\n",
       "      <td>26</td>\n",
       "      <td>대학생</td>\n",
       "      <td>1</td>\n",
       "      <td>101</td>\n",
       "    </tr>\n",
       "  </tbody>\n",
       "</table>\n",
       "</div>"
      ],
      "text/plain": [
       "    이름  나이   직업  그룹id   호실\n",
       "0  김지수  26  대학생     1  101\n",
       "1  김태진  26  대학생     1  101"
      ]
     },
     "execution_count": 41,
     "metadata": {},
     "output_type": "execute_result"
    }
   ],
   "source": [
    "# 열 규칙에 맞춘 여러 행 추가하기.\n",
    "# df = pd.concat([df,{\"이름\": [\"성지은\", \"장혜림\"], \"나이\": [24, 26], \"직업\": [\"대학생\", \"대학원생\"], \"그룹id\" : [2, 2], \"호실\": [201, 201]}], ignore_index = True) # 에러가 난다. TypeError: cannot concatenate object of type '<class 'dict'>'; only Series and DataFrame objs are valid\n",
    "df"
   ]
  },
  {
   "attachments": {},
   "cell_type": "markdown",
   "metadata": {},
   "source": [
    "여러 행을 추가하려면, 먼저 추가할 행을 DataFrame으로 만들어줘야한다. 이렇게 우리는 두 가지 번거러운 포인트를 알게 된다. 우선, 추가하려는 여러 행을 dictionary형태로 만들어줘야하고, 이를 또 DataFrame으로 선언한 후에, 앞선 DataFrame에 나중에 추가하려고 임시로 만든 것을 합쳐줘야한다.\n",
    "\n",
    "생각해보면, 왜 이렇게 제약을 많이 걸어놨나 싶다. 엑셀이 아닌, 판다스를 쓸 때엔 코딩을 통해서 데이터를 입력하기 때문에 상당히 자유로운 라이브러리를 짰을 수도 있을 것이고, 이는 코딩 논리를 짤 때에 많은 유연성을 가능하게 했을 것 같다."
   ]
  },
  {
   "cell_type": "code",
   "execution_count": 42,
   "metadata": {},
   "outputs": [
    {
     "data": {
      "text/html": [
       "<div>\n",
       "<style scoped>\n",
       "    .dataframe tbody tr th:only-of-type {\n",
       "        vertical-align: middle;\n",
       "    }\n",
       "\n",
       "    .dataframe tbody tr th {\n",
       "        vertical-align: top;\n",
       "    }\n",
       "\n",
       "    .dataframe thead th {\n",
       "        text-align: right;\n",
       "    }\n",
       "</style>\n",
       "<table border=\"1\" class=\"dataframe\">\n",
       "  <thead>\n",
       "    <tr style=\"text-align: right;\">\n",
       "      <th></th>\n",
       "      <th>이름</th>\n",
       "      <th>나이</th>\n",
       "      <th>직업</th>\n",
       "      <th>그룹id</th>\n",
       "      <th>호실</th>\n",
       "    </tr>\n",
       "  </thead>\n",
       "  <tbody>\n",
       "    <tr>\n",
       "      <th>0</th>\n",
       "      <td>김지수</td>\n",
       "      <td>26</td>\n",
       "      <td>대학생</td>\n",
       "      <td>1</td>\n",
       "      <td>101</td>\n",
       "    </tr>\n",
       "    <tr>\n",
       "      <th>1</th>\n",
       "      <td>김태진</td>\n",
       "      <td>26</td>\n",
       "      <td>대학생</td>\n",
       "      <td>1</td>\n",
       "      <td>101</td>\n",
       "    </tr>\n",
       "    <tr>\n",
       "      <th>2</th>\n",
       "      <td>성지은</td>\n",
       "      <td>24</td>\n",
       "      <td>대학생</td>\n",
       "      <td>2</td>\n",
       "      <td>201</td>\n",
       "    </tr>\n",
       "    <tr>\n",
       "      <th>3</th>\n",
       "      <td>장혜림</td>\n",
       "      <td>26</td>\n",
       "      <td>대학원생</td>\n",
       "      <td>2</td>\n",
       "      <td>201</td>\n",
       "    </tr>\n",
       "  </tbody>\n",
       "</table>\n",
       "</div>"
      ],
      "text/plain": [
       "    이름  나이    직업  그룹id   호실\n",
       "0  김지수  26   대학생     1  101\n",
       "1  김태진  26   대학생     1  101\n",
       "2  성지은  24   대학생     2  201\n",
       "3  장혜림  26  대학원생     2  201"
      ]
     },
     "execution_count": 42,
     "metadata": {},
     "output_type": "execute_result"
    }
   ],
   "source": [
    "df2 = pd.DataFrame({\"이름\": [\"성지은\", \"장혜림\"], \"나이\": [24, 26], \"직업\": [\"대학생\", \"대학원생\"], \"그룹id\" : [2, 2], \"호실\": [201, 201]})\n",
    "df = pd.concat([df,df2], ignore_index=True)\n",
    "df\n",
    "# 여러행 추가하는 규칙 잊지 않기(딕셔너리만들고, 새 데이터프레임에 딕셔너리 입력, 기존 데이터 프레임에 임시 데이터 프레임 이어붙이기)"
   ]
  },
  {
   "attachments": {},
   "cell_type": "markdown",
   "metadata": {},
   "source": [
    "열로 추가하든, 행으로 추가하든, 꼭 행동을 끝내고 표(데이터)가 어그러진 것 없이 잘 있는지 확인한다. 김태진의 데이터에 빈칸이 있어서 직업이 다 한칸씩 위로 당겨지고, 이런 일은 엑셀에서 유사였다."
   ]
  },
  {
   "attachments": {},
   "cell_type": "markdown",
   "metadata": {},
   "source": [
    "이런 부자연스러운 과정들은 엑셀에서 기반한 사고방식으로 판다스를 바라보고, 새로운 객체를 만들거나, 추가하려는 행동을 하기 때문이다.\n",
    "\n",
    "이제 pandas의 공식 tutorial에서 제안하는대로 새로 만들어보자."
   ]
  },
  {
   "cell_type": "code",
   "execution_count": null,
   "metadata": {},
   "outputs": [],
   "source": []
  }
 ],
 "metadata": {
  "kernelspec": {
   "display_name": "titanic",
   "language": "python",
   "name": "python3"
  },
  "language_info": {
   "codemirror_mode": {
    "name": "ipython",
    "version": 3
   },
   "file_extension": ".py",
   "mimetype": "text/x-python",
   "name": "python",
   "nbconvert_exporter": "python",
   "pygments_lexer": "ipython3",
   "version": "3.10.9"
  },
  "orig_nbformat": 4,
  "vscode": {
   "interpreter": {
    "hash": "9027d4fd6def838f73ca586d2fb5e0d5ec056f874a067eb697b3a60bab7eb073"
   }
  }
 },
 "nbformat": 4,
 "nbformat_minor": 2
}
