{
 "cells": [
  {
   "cell_type": "code",
   "execution_count": 1,
   "metadata": {},
   "outputs": [
    {
     "name": "stdout",
     "output_type": "stream",
     "text": [
      "[1 2 3]\n"
     ]
    }
   ],
   "source": [
    "import numpy as np\n",
    "\n",
    "a = np.array([1, 2, 3])\n",
    "print(a)"
   ]
  },
  {
   "attachments": {},
   "cell_type": "markdown",
   "metadata": {},
   "source": [
    "np.ndarray는 array를 만드는 numpy 함수인가??"
   ]
  },
  {
   "cell_type": "code",
   "execution_count": 2,
   "metadata": {},
   "outputs": [
    {
     "data": {
      "text/plain": [
       "array([[[0., 0., 0.],\n",
       "        [0., 0., 0.]]])"
      ]
     },
     "execution_count": 2,
     "metadata": {},
     "output_type": "execute_result"
    }
   ],
   "source": [
    "narray1 = np.ndarray([1,2,3])\n",
    "narray1"
   ]
  },
  {
   "cell_type": "code",
   "execution_count": 3,
   "metadata": {},
   "outputs": [
    {
     "data": {
      "text/plain": [
       "array([1, 2, 3])"
      ]
     },
     "execution_count": 3,
     "metadata": {},
     "output_type": "execute_result"
    }
   ],
   "source": [
    "narray2 = np.array([1,2,3])\n",
    "narray2"
   ]
  },
  {
   "attachments": {},
   "cell_type": "markdown",
   "metadata": {},
   "source": [
    "위 두 결과를 보면 뭔가 다른걸 알 수 있다. \n",
    "\n",
    "먼저, 첫번째 ndarray는 단순히 값을 입력하여 ndarray를 만드는 함수가 아닌, 데이터의 구조를 지정하여 데이터를 입력하는 함수이다.\n",
    "\n",
    "아래 두번째 array는 실제 값을 입력하여 ndarray클래스를 만드는 함수임을 알 수 있다.\n",
    "\n",
    "그러면, 도대체 왜 ndarray라는 피곤한 객체 타입(클래스)를 따로 만들어서 진입장벽과, 쓰기 귀찮음을 동시에 챙긴걸까?\n",
    "\n",
    "그건 바로 아래에서 알 수 있다."
   ]
  },
  {
   "cell_type": "code",
   "execution_count": 13,
   "metadata": {},
   "outputs": [
    {
     "name": "stdout",
     "output_type": "stream",
     "text": [
      "ndim1 : 3, ndim2 : 1\n",
      "narray3은 5단계 배열일까요? 네! narray3.ndim : 5\n",
      "narray3.shape : (1, 2, 1, 2, 4), narray3.size : 16, narray3.dtype : float64\n",
      "[[[[[4.67296746e-307 1.69121096e-306 2.33646845e-307 1.11256817e-306]\n",
      "    [1.06811422e-306 1.42417221e-306 1.11260619e-306 8.90094053e-307]]]\n",
      "\n",
      "\n",
      "  [[[1.86919378e-306 1.06809792e-306 1.37962456e-306 1.69111861e-306]\n",
      "    [1.78020169e-306 7.56605918e-307 5.33590898e-322 1.11253693e-308]]]]]\n"
     ]
    }
   ],
   "source": [
    "ndim1 = narray1.ndim\n",
    "ndim2 = narray2.ndim\n",
    "print(f\"ndim1 : {ndim1}, ndim2 : {ndim2}\")\n",
    "# 차원 계단의 개수를 출력하는 함수임을 알 수 있다. 기왕 하는거 헷갈리지 않게 확실하게 해보자.\n",
    "# 5단계짜리 ndarray를 만들어보자.\n",
    "narray3 = np.ndarray([1,2,1,2,4])\n",
    "print(f\"narray3은 5단계 배열일까요? 네! narray3.ndim : {narray3.ndim}\")\n",
    "print(f\"narray3.shape : {narray3.shape}, narray3.size : {narray3.size}, narray3.dtype : {narray3.dtype}\")\n",
    "print(narray3)"
   ]
  },
  {
   "attachments": {},
   "cell_type": "markdown",
   "metadata": {},
   "source": [
    "그런데, 아까 narray1.ndim을 직접 실험해보시면, narray1.ndim() 이런 식으로 쓰셨을 수도 있습니다. 하지만 이건 에러를 불러일으키는데요,\n",
    "\n",
    "당연히 클래스의 함수(메소드)를 불러오는 거라 생각했는데 왜 에러가 날까요?"
   ]
  },
  {
   "cell_type": "code",
   "execution_count": null,
   "metadata": {},
   "outputs": [],
   "source": [
    "# ndim, shape등등은 메소드가 아닌 클래스 변수이다."
   ]
  }
 ],
 "metadata": {
  "kernelspec": {
   "display_name": "kaggle-titanic",
   "language": "python",
   "name": "kaggle-titanic"
  },
  "language_info": {
   "codemirror_mode": {
    "name": "ipython",
    "version": 3
   },
   "file_extension": ".py",
   "mimetype": "text/x-python",
   "name": "python",
   "nbconvert_exporter": "python",
   "pygments_lexer": "ipython3",
   "version": "3.10.9 (tags/v3.10.9:1dd9be6, Dec  6 2022, 20:01:21) [MSC v.1934 64 bit (AMD64)]"
  },
  "orig_nbformat": 4,
  "vscode": {
   "interpreter": {
    "hash": "9027d4fd6def838f73ca586d2fb5e0d5ec056f874a067eb697b3a60bab7eb073"
   }
  }
 },
 "nbformat": 4,
 "nbformat_minor": 2
}
