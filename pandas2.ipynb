{
 "cells": [
  {
   "cell_type": "code",
   "execution_count": 1,
   "metadata": {},
   "outputs": [],
   "source": [
    "import numpy as np\n",
    "import pandas as pd"
   ]
  },
  {
   "cell_type": "code",
   "execution_count": 5,
   "metadata": {},
   "outputs": [
    {
     "name": "stdout",
     "output_type": "stream",
     "text": [
      "[ 1.90564415 -0.34941182 -1.13782432  1.21242192  0.74724184 -0.77494811\n",
      " -1.42180591  0.12594229 -1.51989432  1.54036606]\n"
     ]
    },
    {
     "data": {
      "text/plain": [
       "numpy.ndarray"
      ]
     },
     "execution_count": 5,
     "metadata": {},
     "output_type": "execute_result"
    }
   ],
   "source": [
    "print(np.random.randn(10))\n",
    "type(np.random.randn(10))"
   ]
  },
  {
   "cell_type": "code",
   "execution_count": 2,
   "metadata": {},
   "outputs": [
    {
     "data": {
      "text/plain": [
       "a   -0.610374\n",
       "b   -0.094740\n",
       "c   -0.293508\n",
       "d    0.315689\n",
       "e   -0.171592\n",
       "dtype: float64"
      ]
     },
     "execution_count": 2,
     "metadata": {},
     "output_type": "execute_result"
    }
   ],
   "source": [
    "s = pd.Series(np.random.randn(5), index=[\"a\", \"b\", \"c\", \"d\", \"e\"])\n",
    "s"
   ]
  },
  {
   "cell_type": "code",
   "execution_count": 11,
   "metadata": {},
   "outputs": [
    {
     "name": "stdout",
     "output_type": "stream",
     "text": [
      "b    1\n",
      "a    0\n",
      "c    2\n",
      "dtype: int64\n",
      "b    1\n",
      "a    0\n",
      "c    2\n",
      "dtype: int64\n",
      "   b  a  c\n",
      "0  1  0  2\n"
     ]
    }
   ],
   "source": [
    "d = [1,0,2]\n",
    "print(pd.Series(d, index=[\"b\",\"a\",\"c\"]))\n",
    "\n",
    "d = {\"b\": 1, \"a\": 0, \"c\": 2}\n",
    "print(pd.Series(d))\n",
    "\n",
    "d = {\"b\": [1], \"a\": [0], \"c\": [2]}\n",
    "print(pd.DataFrame(d))"
   ]
  },
  {
   "attachments": {},
   "cell_type": "markdown",
   "metadata": {},
   "source": [
    "이제 pandas의 강력하고 중요한 기능이다. 새로 생성할 표(데이터프레임)에 대해 기존의 데이터로부터 자동으로 vlookup기능을 해준다."
   ]
  },
  {
   "cell_type": "code",
   "execution_count": 12,
   "metadata": {},
   "outputs": [
    {
     "name": "stdout",
     "output_type": "stream",
     "text": [
      "a    0.0\n",
      "b    1.0\n",
      "c    2.0\n",
      "dtype: float64\n",
      "b    1.0\n",
      "c    2.0\n",
      "d    NaN\n",
      "a    0.0\n",
      "dtype: float64\n"
     ]
    }
   ],
   "source": [
    "d = {\"a\": 0.0, \"b\": 1.0, \"c\": 2.0}\n",
    "print(pd.Series(d))\n",
    "\n",
    "print(pd.Series(d, index=[\"b\", \"c\", \"d\", \"a\"]))"
   ]
  },
  {
   "cell_type": "code",
   "execution_count": null,
   "metadata": {},
   "outputs": [],
   "source": []
  }
 ],
 "metadata": {
  "kernelspec": {
   "display_name": "titanic",
   "language": "python",
   "name": "python3"
  },
  "language_info": {
   "codemirror_mode": {
    "name": "ipython",
    "version": 3
   },
   "file_extension": ".py",
   "mimetype": "text/x-python",
   "name": "python",
   "nbconvert_exporter": "python",
   "pygments_lexer": "ipython3",
   "version": "3.10.9"
  },
  "orig_nbformat": 4,
  "vscode": {
   "interpreter": {
    "hash": "9027d4fd6def838f73ca586d2fb5e0d5ec056f874a067eb697b3a60bab7eb073"
   }
  }
 },
 "nbformat": 4,
 "nbformat_minor": 2
}
